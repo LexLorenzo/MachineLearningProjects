{
 "cells": [
  {
   "cell_type": "code",
   "execution_count": 2,
   "id": "1645b90b-bf35-4767-86b2-c5bb43078544",
   "metadata": {},
   "outputs": [],
   "source": [
    "import numpy as np\n",
    "import pandas as pd\n",
    "import matplotlib.pyplot as plt\n",
    "import seaborn as sns"
   ]
  },
  {
   "cell_type": "markdown",
   "id": "1b57128a-8ec7-4e84-9aaa-e79811502c05",
   "metadata": {},
   "source": [
    "## Loading the Data"
   ]
  },
  {
   "cell_type": "code",
   "execution_count": 33,
   "id": "4d8dcf1d-ad42-461a-92fa-508a1d4cee3e",
   "metadata": {},
   "outputs": [],
   "source": [
    "data = pd.read_csv(\"House_Rent_Dataset.csv\")"
   ]
  },
  {
   "cell_type": "code",
   "execution_count": 5,
   "id": "bdb343f7-5fe4-487b-a6bb-1cf8a309a58b",
   "metadata": {},
   "outputs": [
    {
     "data": {
      "text/html": [
       "<div>\n",
       "<style scoped>\n",
       "    .dataframe tbody tr th:only-of-type {\n",
       "        vertical-align: middle;\n",
       "    }\n",
       "\n",
       "    .dataframe tbody tr th {\n",
       "        vertical-align: top;\n",
       "    }\n",
       "\n",
       "    .dataframe thead th {\n",
       "        text-align: right;\n",
       "    }\n",
       "</style>\n",
       "<table border=\"1\" class=\"dataframe\">\n",
       "  <thead>\n",
       "    <tr style=\"text-align: right;\">\n",
       "      <th></th>\n",
       "      <th>Posted On</th>\n",
       "      <th>BHK</th>\n",
       "      <th>Rent</th>\n",
       "      <th>Size</th>\n",
       "      <th>Floor</th>\n",
       "      <th>Area Type</th>\n",
       "      <th>Area Locality</th>\n",
       "      <th>City</th>\n",
       "      <th>Furnishing Status</th>\n",
       "      <th>Tenant Preferred</th>\n",
       "      <th>Bathroom</th>\n",
       "      <th>Point of Contact</th>\n",
       "    </tr>\n",
       "  </thead>\n",
       "  <tbody>\n",
       "    <tr>\n",
       "      <th>0</th>\n",
       "      <td>2022-05-18</td>\n",
       "      <td>2</td>\n",
       "      <td>10000</td>\n",
       "      <td>1100</td>\n",
       "      <td>Ground out of 2</td>\n",
       "      <td>Super Area</td>\n",
       "      <td>Bandel</td>\n",
       "      <td>Kolkata</td>\n",
       "      <td>Unfurnished</td>\n",
       "      <td>Bachelors/Family</td>\n",
       "      <td>2</td>\n",
       "      <td>Contact Owner</td>\n",
       "    </tr>\n",
       "    <tr>\n",
       "      <th>1</th>\n",
       "      <td>2022-05-13</td>\n",
       "      <td>2</td>\n",
       "      <td>20000</td>\n",
       "      <td>800</td>\n",
       "      <td>1 out of 3</td>\n",
       "      <td>Super Area</td>\n",
       "      <td>Phool Bagan, Kankurgachi</td>\n",
       "      <td>Kolkata</td>\n",
       "      <td>Semi-Furnished</td>\n",
       "      <td>Bachelors/Family</td>\n",
       "      <td>1</td>\n",
       "      <td>Contact Owner</td>\n",
       "    </tr>\n",
       "    <tr>\n",
       "      <th>2</th>\n",
       "      <td>2022-05-16</td>\n",
       "      <td>2</td>\n",
       "      <td>17000</td>\n",
       "      <td>1000</td>\n",
       "      <td>1 out of 3</td>\n",
       "      <td>Super Area</td>\n",
       "      <td>Salt Lake City Sector 2</td>\n",
       "      <td>Kolkata</td>\n",
       "      <td>Semi-Furnished</td>\n",
       "      <td>Bachelors/Family</td>\n",
       "      <td>1</td>\n",
       "      <td>Contact Owner</td>\n",
       "    </tr>\n",
       "    <tr>\n",
       "      <th>3</th>\n",
       "      <td>2022-07-04</td>\n",
       "      <td>2</td>\n",
       "      <td>10000</td>\n",
       "      <td>800</td>\n",
       "      <td>1 out of 2</td>\n",
       "      <td>Super Area</td>\n",
       "      <td>Dumdum Park</td>\n",
       "      <td>Kolkata</td>\n",
       "      <td>Unfurnished</td>\n",
       "      <td>Bachelors/Family</td>\n",
       "      <td>1</td>\n",
       "      <td>Contact Owner</td>\n",
       "    </tr>\n",
       "    <tr>\n",
       "      <th>4</th>\n",
       "      <td>2022-05-09</td>\n",
       "      <td>2</td>\n",
       "      <td>7500</td>\n",
       "      <td>850</td>\n",
       "      <td>1 out of 2</td>\n",
       "      <td>Carpet Area</td>\n",
       "      <td>South Dum Dum</td>\n",
       "      <td>Kolkata</td>\n",
       "      <td>Unfurnished</td>\n",
       "      <td>Bachelors</td>\n",
       "      <td>1</td>\n",
       "      <td>Contact Owner</td>\n",
       "    </tr>\n",
       "    <tr>\n",
       "      <th>5</th>\n",
       "      <td>2022-04-29</td>\n",
       "      <td>2</td>\n",
       "      <td>7000</td>\n",
       "      <td>600</td>\n",
       "      <td>Ground out of 1</td>\n",
       "      <td>Super Area</td>\n",
       "      <td>Thakurpukur</td>\n",
       "      <td>Kolkata</td>\n",
       "      <td>Unfurnished</td>\n",
       "      <td>Bachelors/Family</td>\n",
       "      <td>2</td>\n",
       "      <td>Contact Owner</td>\n",
       "    </tr>\n",
       "    <tr>\n",
       "      <th>6</th>\n",
       "      <td>2022-06-21</td>\n",
       "      <td>2</td>\n",
       "      <td>10000</td>\n",
       "      <td>700</td>\n",
       "      <td>Ground out of 4</td>\n",
       "      <td>Super Area</td>\n",
       "      <td>Malancha</td>\n",
       "      <td>Kolkata</td>\n",
       "      <td>Unfurnished</td>\n",
       "      <td>Bachelors</td>\n",
       "      <td>2</td>\n",
       "      <td>Contact Agent</td>\n",
       "    </tr>\n",
       "    <tr>\n",
       "      <th>7</th>\n",
       "      <td>2022-06-21</td>\n",
       "      <td>1</td>\n",
       "      <td>5000</td>\n",
       "      <td>250</td>\n",
       "      <td>1 out of 2</td>\n",
       "      <td>Super Area</td>\n",
       "      <td>Malancha</td>\n",
       "      <td>Kolkata</td>\n",
       "      <td>Unfurnished</td>\n",
       "      <td>Bachelors</td>\n",
       "      <td>1</td>\n",
       "      <td>Contact Agent</td>\n",
       "    </tr>\n",
       "    <tr>\n",
       "      <th>8</th>\n",
       "      <td>2022-06-07</td>\n",
       "      <td>2</td>\n",
       "      <td>26000</td>\n",
       "      <td>800</td>\n",
       "      <td>1 out of 2</td>\n",
       "      <td>Carpet Area</td>\n",
       "      <td>Palm Avenue Kolkata, Ballygunge</td>\n",
       "      <td>Kolkata</td>\n",
       "      <td>Unfurnished</td>\n",
       "      <td>Bachelors</td>\n",
       "      <td>2</td>\n",
       "      <td>Contact Agent</td>\n",
       "    </tr>\n",
       "    <tr>\n",
       "      <th>9</th>\n",
       "      <td>2022-06-20</td>\n",
       "      <td>2</td>\n",
       "      <td>10000</td>\n",
       "      <td>1000</td>\n",
       "      <td>1 out of 3</td>\n",
       "      <td>Carpet Area</td>\n",
       "      <td>Natunhat</td>\n",
       "      <td>Kolkata</td>\n",
       "      <td>Semi-Furnished</td>\n",
       "      <td>Bachelors/Family</td>\n",
       "      <td>2</td>\n",
       "      <td>Contact Owner</td>\n",
       "    </tr>\n",
       "  </tbody>\n",
       "</table>\n",
       "</div>"
      ],
      "text/plain": [
       "    Posted On  BHK   Rent  Size            Floor    Area Type  \\\n",
       "0  2022-05-18    2  10000  1100  Ground out of 2   Super Area   \n",
       "1  2022-05-13    2  20000   800       1 out of 3   Super Area   \n",
       "2  2022-05-16    2  17000  1000       1 out of 3   Super Area   \n",
       "3  2022-07-04    2  10000   800       1 out of 2   Super Area   \n",
       "4  2022-05-09    2   7500   850       1 out of 2  Carpet Area   \n",
       "5  2022-04-29    2   7000   600  Ground out of 1   Super Area   \n",
       "6  2022-06-21    2  10000   700  Ground out of 4   Super Area   \n",
       "7  2022-06-21    1   5000   250       1 out of 2   Super Area   \n",
       "8  2022-06-07    2  26000   800       1 out of 2  Carpet Area   \n",
       "9  2022-06-20    2  10000  1000       1 out of 3  Carpet Area   \n",
       "\n",
       "                     Area Locality     City Furnishing Status  \\\n",
       "0                           Bandel  Kolkata       Unfurnished   \n",
       "1         Phool Bagan, Kankurgachi  Kolkata    Semi-Furnished   \n",
       "2          Salt Lake City Sector 2  Kolkata    Semi-Furnished   \n",
       "3                      Dumdum Park  Kolkata       Unfurnished   \n",
       "4                    South Dum Dum  Kolkata       Unfurnished   \n",
       "5                      Thakurpukur  Kolkata       Unfurnished   \n",
       "6                         Malancha  Kolkata       Unfurnished   \n",
       "7                         Malancha  Kolkata       Unfurnished   \n",
       "8  Palm Avenue Kolkata, Ballygunge  Kolkata       Unfurnished   \n",
       "9                         Natunhat  Kolkata    Semi-Furnished   \n",
       "\n",
       "   Tenant Preferred  Bathroom Point of Contact  \n",
       "0  Bachelors/Family         2    Contact Owner  \n",
       "1  Bachelors/Family         1    Contact Owner  \n",
       "2  Bachelors/Family         1    Contact Owner  \n",
       "3  Bachelors/Family         1    Contact Owner  \n",
       "4         Bachelors         1    Contact Owner  \n",
       "5  Bachelors/Family         2    Contact Owner  \n",
       "6         Bachelors         2    Contact Agent  \n",
       "7         Bachelors         1    Contact Agent  \n",
       "8         Bachelors         2    Contact Agent  \n",
       "9  Bachelors/Family         2    Contact Owner  "
      ]
     },
     "execution_count": 5,
     "metadata": {},
     "output_type": "execute_result"
    }
   ],
   "source": [
    "data.head(10)"
   ]
  },
  {
   "cell_type": "markdown",
   "id": "2d0ae8e9-602a-4889-8a64-16004b4f57e7",
   "metadata": {},
   "source": [
    "## Basic Inspection"
   ]
  },
  {
   "cell_type": "code",
   "execution_count": 6,
   "id": "52cd1eaa-da73-4c19-8be3-2d0a96b5446d",
   "metadata": {},
   "outputs": [
    {
     "name": "stdout",
     "output_type": "stream",
     "text": [
      "<class 'pandas.core.frame.DataFrame'>\n",
      "RangeIndex: 4746 entries, 0 to 4745\n",
      "Data columns (total 12 columns):\n",
      " #   Column             Non-Null Count  Dtype \n",
      "---  ------             --------------  ----- \n",
      " 0   Posted On          4746 non-null   object\n",
      " 1   BHK                4746 non-null   int64 \n",
      " 2   Rent               4746 non-null   int64 \n",
      " 3   Size               4746 non-null   int64 \n",
      " 4   Floor              4746 non-null   object\n",
      " 5   Area Type          4746 non-null   object\n",
      " 6   Area Locality      4746 non-null   object\n",
      " 7   City               4746 non-null   object\n",
      " 8   Furnishing Status  4746 non-null   object\n",
      " 9   Tenant Preferred   4746 non-null   object\n",
      " 10  Bathroom           4746 non-null   int64 \n",
      " 11  Point of Contact   4746 non-null   object\n",
      "dtypes: int64(4), object(8)\n",
      "memory usage: 445.1+ KB\n"
     ]
    }
   ],
   "source": [
    "data.info()"
   ]
  },
  {
   "cell_type": "code",
   "execution_count": 8,
   "id": "675e64ab-3e6c-4220-98e9-54ad8a4cddba",
   "metadata": {},
   "outputs": [
    {
     "data": {
      "text/plain": [
       "Posted On            0\n",
       "BHK                  0\n",
       "Rent                 0\n",
       "Size                 0\n",
       "Floor                0\n",
       "Area Type            0\n",
       "Area Locality        0\n",
       "City                 0\n",
       "Furnishing Status    0\n",
       "Tenant Preferred     0\n",
       "Bathroom             0\n",
       "Point of Contact     0\n",
       "dtype: int64"
      ]
     },
     "execution_count": 8,
     "metadata": {},
     "output_type": "execute_result"
    }
   ],
   "source": [
    "data.isnull().sum()"
   ]
  },
  {
   "cell_type": "markdown",
   "id": "1b91b37d-8ce2-4fda-bf84-a950fc7135e8",
   "metadata": {},
   "source": [
    "## Simple Exploratory Data Analysis"
   ]
  },
  {
   "cell_type": "code",
   "execution_count": 15,
   "id": "73df0372-86cd-432d-8312-97eff7fe8ba7",
   "metadata": {},
   "outputs": [
    {
     "data": {
      "text/plain": [
       "<BarContainer object of 6 artists>"
      ]
     },
     "execution_count": 15,
     "metadata": {},
     "output_type": "execute_result"
    },
    {
     "data": {
      "image/png": "[encoded data removed]",
      "text/plain": [
       "<Figure size 640x480 with 1 Axes>"
      ]
     },
     "metadata": {},
     "output_type": "display_data"
    }
   ],
   "source": [
    "plt.bar(data['BHK'].value_counts().index, data['BHK'].value_counts().values)"
   ]
  },
  {
   "cell_type": "code",
   "execution_count": 18,
   "id": "8979557a-2ee8-40b1-bd8c-56bfa38734b3",
   "metadata": {},
   "outputs": [
    {
     "name": "stderr",
     "output_type": "stream",
     "text": [
      "/var/folders/wx/gk7kp_6942j_6x8x2__37r4w0000gp/T/ipykernel_70124/1622857777.py:1: UserWarning: \n",
      "\n",
      "`distplot` is a deprecated function and will be removed in seaborn v0.14.0.\n",
      "\n",
      "Please adapt your code to use either `displot` (a figure-level function with\n",
      "similar flexibility) or `histplot` (an axes-level function for histograms).\n",
      "\n",
      "For a guide to updating your code to use the new functions, please see\n",
      "https://gist.github.com/mwaskom/de44147ed2974457ad6372750bbe5751\n",
      "\n",
      "  sns.distplot(data['Rent'])\n"
     ]
    },
    {
     "data": {
      "text/plain": [
       "<Axes: xlabel='Rent', ylabel='Density'>"
      ]
     },
     "execution_count": 18,
     "metadata": {},
     "output_type": "execute_result"
    },
    {
     "data": {
      "image/png": "[encoded data removed]",
      "text/plain": [
       "<Figure size 640x480 with 1 Axes>"
      ]
     },
     "metadata": {},
     "output_type": "display_data"
    }
   ],
   "source": [
    "sns.distplot(data['Rent'])"
   ]
  },
  {
   "cell_type": "code",
   "execution_count": 19,
   "id": "70bb5e54-235c-42fb-9e8e-c2cd87d9af90",
   "metadata": {},
   "outputs": [
    {
     "name": "stderr",
     "output_type": "stream",
     "text": [
      "/var/folders/wx/gk7kp_6942j_6x8x2__37r4w0000gp/T/ipykernel_70124/1729628872.py:1: UserWarning: \n",
      "\n",
      "`distplot` is a deprecated function and will be removed in seaborn v0.14.0.\n",
      "\n",
      "Please adapt your code to use either `displot` (a figure-level function with\n",
      "similar flexibility) or `histplot` (an axes-level function for histograms).\n",
      "\n",
      "For a guide to updating your code to use the new functions, please see\n",
      "https://gist.github.com/mwaskom/de44147ed2974457ad6372750bbe5751\n",
      "\n",
      "  sns.distplot(data['Size'])\n"
     ]
    },
    {
     "data": {
      "text/plain": [
       "<Axes: xlabel='Size', ylabel='Density'>"
      ]
     },
     "execution_count": 19,
     "metadata": {},
     "output_type": "execute_result"
    },
    {
     "data": {
      "image/png": "[encoded data removed]",
      "text/plain": [
       "<Figure size 640x480 with 1 Axes>"
      ]
     },
     "metadata": {},
     "output_type": "display_data"
    }
   ],
   "source": [
    "sns.distplot(data['Size'])"
   ]
  },
  {
   "cell_type": "code",
   "execution_count": 21,
   "id": "c8db6d74-f32c-4464-be96-e23b0fb13d51",
   "metadata": {},
   "outputs": [
    {
     "data": {
      "text/plain": [
       "1 out of 2         379\n",
       "Ground out of 2    350\n",
       "2 out of 3         312\n",
       "2 out of 4         308\n",
       "1 out of 3         293\n",
       "                  ... \n",
       "11 out of 31         1\n",
       "50 out of 75         1\n",
       "18 out of 26         1\n",
       "12 out of 27         1\n",
       "23 out of 34         1\n",
       "Name: Floor, Length: 480, dtype: int64"
      ]
     },
     "execution_count": 21,
     "metadata": {},
     "output_type": "execute_result"
    }
   ],
   "source": [
    "data['Floor'].value_counts()"
   ]
  },
  {
   "cell_type": "code",
   "execution_count": 22,
   "id": "fb06eb97-65a3-4d77-bd5a-4a1de3b2a78b",
   "metadata": {},
   "outputs": [
    {
     "data": {
      "text/plain": [
       "Semi-Furnished    2251\n",
       "Unfurnished       1815\n",
       "Furnished          680\n",
       "Name: Furnishing Status, dtype: int64"
      ]
     },
     "execution_count": 22,
     "metadata": {},
     "output_type": "execute_result"
    }
   ],
   "source": [
    "data['Furnishing Status'].value_counts()"
   ]
  },
  {
   "cell_type": "code",
   "execution_count": 23,
   "id": "30f537ea-5fc4-4a8e-a176-56265baed16d",
   "metadata": {},
   "outputs": [
    {
     "data": {
      "text/plain": [
       "Bandra West                                37\n",
       "Gachibowli                                 29\n",
       "Electronic City                            24\n",
       "Velachery                                  22\n",
       "Miyapur, NH 9                              22\n",
       "                                           ..\n",
       "Kengeri Upanagara                           1\n",
       "Ittamadu, Banashankari, Outer Ring Road     1\n",
       "Rmv Extension, Armane Nagar                 1\n",
       "snv la                                      1\n",
       "Manikonda, Hyderabad                        1\n",
       "Name: Area Locality, Length: 2235, dtype: int64"
      ]
     },
     "execution_count": 23,
     "metadata": {},
     "output_type": "execute_result"
    }
   ],
   "source": [
    "data['Area Locality'].value_counts()"
   ]
  },
  {
   "cell_type": "markdown",
   "id": "c381fb40-3b36-4aba-854a-ff07ac91a76e",
   "metadata": {},
   "source": [
    "## Preprocessing"
   ]
  },
  {
   "cell_type": "markdown",
   "id": "a8b7c2b1-0c53-404c-874b-112055abe44c",
   "metadata": {},
   "source": [
    "### Conversion of Categorical Variable to One-Hot Encoding"
   ]
  },
  {
   "cell_type": "code",
   "execution_count": 34,
   "id": "cdc91503-d2ad-4b50-840f-21587c8021ca",
   "metadata": {},
   "outputs": [],
   "source": [
    "data = data[['BHK', 'Bathroom', 'Furnishing Status', 'Rent']]"
   ]
  },
  {
   "cell_type": "code",
   "execution_count": 35,
   "id": "749b3477-0900-4af0-ad10-619ed848d2c8",
   "metadata": {},
   "outputs": [],
   "source": [
    "def one_hot_encode(data, column):\n",
    "    encoded = pd.get_dummies(data[column], drop_first= True)\n",
    "    data = data.drop(column, axis = 1)\n",
    "    data = data.join(encoded)\n",
    "    return data"
   ]
  },
  {
   "cell_type": "code",
   "execution_count": 36,
   "id": "e5d70893-3a37-41df-a252-9249276b4484",
   "metadata": {},
   "outputs": [],
   "source": [
    "data = one_hot_encode(data, 'Furnishing Status')"
   ]
  },
  {
   "cell_type": "code",
   "execution_count": 37,
   "id": "b62c042f-368e-4f21-a44a-a6012ee102be",
   "metadata": {},
   "outputs": [
    {
     "data": {
      "text/html": [
       "<div>\n",
       "<style scoped>\n",
       "    .dataframe tbody tr th:only-of-type {\n",
       "        vertical-align: middle;\n",
       "    }\n",
       "\n",
       "    .dataframe tbody tr th {\n",
       "        vertical-align: top;\n",
       "    }\n",
       "\n",
       "    .dataframe thead th {\n",
       "        text-align: right;\n",
       "    }\n",
       "</style>\n",
       "<table border=\"1\" class=\"dataframe\">\n",
       "  <thead>\n",
       "    <tr style=\"text-align: right;\">\n",
       "      <th></th>\n",
       "      <th>BHK</th>\n",
       "      <th>Bathroom</th>\n",
       "      <th>Rent</th>\n",
       "      <th>Semi-Furnished</th>\n",
       "      <th>Unfurnished</th>\n",
       "    </tr>\n",
       "  </thead>\n",
       "  <tbody>\n",
       "    <tr>\n",
       "      <th>0</th>\n",
       "      <td>2</td>\n",
       "      <td>2</td>\n",
       "      <td>10000</td>\n",
       "      <td>0</td>\n",
       "      <td>1</td>\n",
       "    </tr>\n",
       "    <tr>\n",
       "      <th>1</th>\n",
       "      <td>2</td>\n",
       "      <td>1</td>\n",
       "      <td>20000</td>\n",
       "      <td>1</td>\n",
       "      <td>0</td>\n",
       "    </tr>\n",
       "    <tr>\n",
       "      <th>2</th>\n",
       "      <td>2</td>\n",
       "      <td>1</td>\n",
       "      <td>17000</td>\n",
       "      <td>1</td>\n",
       "      <td>0</td>\n",
       "    </tr>\n",
       "    <tr>\n",
       "      <th>3</th>\n",
       "      <td>2</td>\n",
       "      <td>1</td>\n",
       "      <td>10000</td>\n",
       "      <td>0</td>\n",
       "      <td>1</td>\n",
       "    </tr>\n",
       "    <tr>\n",
       "      <th>4</th>\n",
       "      <td>2</td>\n",
       "      <td>1</td>\n",
       "      <td>7500</td>\n",
       "      <td>0</td>\n",
       "      <td>1</td>\n",
       "    </tr>\n",
       "    <tr>\n",
       "      <th>...</th>\n",
       "      <td>...</td>\n",
       "      <td>...</td>\n",
       "      <td>...</td>\n",
       "      <td>...</td>\n",
       "      <td>...</td>\n",
       "    </tr>\n",
       "    <tr>\n",
       "      <th>4741</th>\n",
       "      <td>2</td>\n",
       "      <td>2</td>\n",
       "      <td>15000</td>\n",
       "      <td>1</td>\n",
       "      <td>0</td>\n",
       "    </tr>\n",
       "    <tr>\n",
       "      <th>4742</th>\n",
       "      <td>3</td>\n",
       "      <td>3</td>\n",
       "      <td>29000</td>\n",
       "      <td>1</td>\n",
       "      <td>0</td>\n",
       "    </tr>\n",
       "    <tr>\n",
       "      <th>4743</th>\n",
       "      <td>3</td>\n",
       "      <td>3</td>\n",
       "      <td>35000</td>\n",
       "      <td>1</td>\n",
       "      <td>0</td>\n",
       "    </tr>\n",
       "    <tr>\n",
       "      <th>4744</th>\n",
       "      <td>3</td>\n",
       "      <td>2</td>\n",
       "      <td>45000</td>\n",
       "      <td>1</td>\n",
       "      <td>0</td>\n",
       "    </tr>\n",
       "    <tr>\n",
       "      <th>4745</th>\n",
       "      <td>2</td>\n",
       "      <td>2</td>\n",
       "      <td>15000</td>\n",
       "      <td>0</td>\n",
       "      <td>1</td>\n",
       "    </tr>\n",
       "  </tbody>\n",
       "</table>\n",
       "<p>4746 rows × 5 columns</p>\n",
       "</div>"
      ],
      "text/plain": [
       "      BHK  Bathroom   Rent  Semi-Furnished  Unfurnished\n",
       "0       2         2  10000               0            1\n",
       "1       2         1  20000               1            0\n",
       "2       2         1  17000               1            0\n",
       "3       2         1  10000               0            1\n",
       "4       2         1   7500               0            1\n",
       "...   ...       ...    ...             ...          ...\n",
       "4741    2         2  15000               1            0\n",
       "4742    3         3  29000               1            0\n",
       "4743    3         3  35000               1            0\n",
       "4744    3         2  45000               1            0\n",
       "4745    2         2  15000               0            1\n",
       "\n",
       "[4746 rows x 5 columns]"
      ]
     },
     "execution_count": 37,
     "metadata": {},
     "output_type": "execute_result"
    }
   ],
   "source": [
    "data"
   ]
  },
  {
   "cell_type": "markdown",
   "id": "1e22fcf4-b391-4c25-a0b4-745c7e531031",
   "metadata": {},
   "source": [
    "### Training and Test Split"
   ]
  },
  {
   "cell_type": "code",
   "execution_count": 38,
   "id": "b3b13cea-07ec-4c80-85d3-0ffa5a30a9c2",
   "metadata": {},
   "outputs": [],
   "source": [
    "X = data.drop('Rent', axis= 1)\n",
    "y = data['Rent']"
   ]
  },
  {
   "cell_type": "code",
   "execution_count": 39,
   "id": "20cabd98-1471-42be-9cb5-c0043e04c639",
   "metadata": {},
   "outputs": [],
   "source": [
    "from sklearn.model_selection import train_test_split\n",
    "X_train, X_test, y_train, y_test = train_test_split(X, y, test_size= 0.2, random_state = 42)"
   ]
  },
  {
   "cell_type": "markdown",
   "id": "2133c2a1-e58c-49ef-b7ca-7ffcf465e774",
   "metadata": {},
   "source": [
    "### Standardizing the Values"
   ]
  },
  {
   "cell_type": "code",
   "execution_count": 43,
   "id": "73c44722-e623-4e28-91e0-73ec268485fe",
   "metadata": {},
   "outputs": [],
   "source": [
    "from sklearn.preprocessing import StandardScaler\n",
    "\n",
    "sc = StandardScaler()\n",
    "X_train = sc.fit_transform(X_train)\n",
    "X_test = sc.transform(X_test)"
   ]
  },
  {
   "cell_type": "markdown",
   "id": "42e4078d-b297-462e-aefb-67302971a4cc",
   "metadata": {},
   "source": [
    "## Modelling"
   ]
  },
  {
   "cell_type": "code",
   "execution_count": 45,
   "id": "789e2422-bcf3-47f8-ad27-1ab5d33aca21",
   "metadata": {},
   "outputs": [
    {
     "data": {
      "text/plain": [
       "array([ 4410.30368561, 30087.93523131, -8355.90712385, -9036.37919781])"
      ]
     },
     "execution_count": 45,
     "metadata": {},
     "output_type": "execute_result"
    }
   ],
   "source": [
    "from sklearn import linear_model\n",
    "model = linear_model.LinearRegression()\n",
    "model.fit(X_train, y_train)\n",
    "model.coef_"
   ]
  },
  {
   "cell_type": "markdown",
   "id": "ac2749fd-1b12-4de8-be06-e05088defa06",
   "metadata": {},
   "source": [
    "## Evaluation"
   ]
  },
  {
   "cell_type": "markdown",
   "id": "74c02f8d-2bc7-4e9a-94ad-fced3fb4fb41",
   "metadata": {},
   "source": [
    "### Quantitative Evaluation"
   ]
  },
  {
   "cell_type": "code",
   "execution_count": 46,
   "id": "6944518d-dee1-4c8c-9ce0-93921e958a77",
   "metadata": {},
   "outputs": [],
   "source": [
    "y_preds = model.predict(X_test)"
   ]
  },
  {
   "cell_type": "code",
   "execution_count": 50,
   "id": "970ca0e2-d805-498a-9204-c538dac4a98e",
   "metadata": {},
   "outputs": [
    {
     "name": "stdout",
     "output_type": "stream",
     "text": [
      "Coefficients: \n",
      " [ 4410.30368561 30087.93523131 -8355.90712385 -9036.37919781]\n",
      "Mean squared error: 2693550407.36\n",
      "Coefficient of determination: 0.32\n"
     ]
    }
   ],
   "source": [
    "from sklearn.metrics import mean_squared_error, r2_score\n",
    "\n",
    "# The coefficients\n",
    "print(\"Coefficients: \\n\", model.coef_)\n",
    "# The mean squared error\n",
    "print(\"Mean squared error: %.2f\" % mean_squared_error(y_test, y_preds))\n",
    "# The coefficient of determination: 1 is perfect prediction\n",
    "print(\"Coefficient of determination: %.2f\" % r2_score(y_test, y_preds))"
   ]
  },
  {
   "cell_type": "markdown",
   "id": "f4317a13-96ac-44a9-b8f5-3e5456bc4134",
   "metadata": {},
   "source": [
    "### Qualitative Evaluation"
   ]
  },
  {
   "cell_type": "code",
   "execution_count": 64,
   "id": "ba79d836-dc2a-4fa4-a9bb-413c7cce35eb",
   "metadata": {},
   "outputs": [
    {
     "data": {
      "text/plain": [
       "BHK               2\n",
       "Bathroom          2\n",
       "Semi-Furnished    0\n",
       "Unfurnished       1\n",
       "Name: 0, dtype: int64"
      ]
     },
     "execution_count": 64,
     "metadata": {},
     "output_type": "execute_result"
    }
   ],
   "source": [
    "sample_data = X.iloc[0]\n",
    "sample_data"
   ]
  },
  {
   "cell_type": "code",
   "execution_count": 65,
   "id": "3985a880-c1f3-4e33-9c99-78d1fe627190",
   "metadata": {},
   "outputs": [],
   "source": [
    "sample_data_standardized = sc.transform(X.iloc[0].values.reshape(1,-1))"
   ]
  },
  {
   "cell_type": "code",
   "execution_count": 69,
   "id": "11d6391f-1b79-4360-9ada-673da49373a7",
   "metadata": {},
   "outputs": [
    {
     "data": {
      "text/plain": [
       "95111.61496901579"
      ]
     },
     "execution_count": 69,
     "metadata": {},
     "output_type": "execute_result"
    }
   ],
   "source": [
    "model_rent_forecast = model.predict(sample_data_standardized)[0]\n",
    "model_rent_forecast"
   ]
  },
  {
   "cell_type": "code",
   "execution_count": 70,
   "id": "91329900-fd05-4f2d-a5c1-3ac48ae132dc",
   "metadata": {},
   "outputs": [
    {
     "data": {
      "text/plain": [
       "10000"
      ]
     },
     "execution_count": 70,
     "metadata": {},
     "output_type": "execute_result"
    }
   ],
   "source": [
    "y.iloc[0]"
   ]
  }
 ],
 "metadata": {
  "kernelspec": {
   "display_name": "Python 3 (ipykernel)",
   "language": "python",
   "name": "python3"
  },
  "language_info": {
   "codemirror_mode": {
    "name": "ipython",
    "version": 3
   },
   "file_extension": ".py",
   "mimetype": "text/x-python",
   "name": "python",
   "nbconvert_exporter": "python",
   "pygments_lexer": "ipython3",
   "version": "3.10.9"
  }
 },
 "nbformat": 4,
 "nbformat_minor": 5
}
