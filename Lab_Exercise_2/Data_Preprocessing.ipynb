{
 "cells": [
  {
   "cell_type": "markdown",
   "metadata": {},
   "source": [
    "# This is the data cleaning Notebok for the project"
   ]
  },
  {
   "cell_type": "code",
   "execution_count": 208,
   "metadata": {},
   "outputs": [],
   "source": [
    "from sklearn.metrics import accuracy_score, precision_score, recall_score, f1_score, confusion_matrix, roc_auc_score\n",
    "from sklearn.model_selection import train_test_split\n",
    "from sklearn.linear_model import LogisticRegression\n",
    "from sklearn.preprocessing import StandardScaler\n",
    "import matplotlib.pyplot as plt\n",
    "import seaborn as sns\n",
    "import pandas as pd\n",
    "import numpy as np\n",
    "from datetime import datetime"
   ]
  },
  {
   "cell_type": "code",
   "execution_count": 209,
   "metadata": {},
   "outputs": [],
   "source": [
    "df = pd.read_excel(\"./marketing_data.xlsx\")"
   ]
  },
  {
   "cell_type": "markdown",
   "metadata": {},
   "source": [
    "## Data Profiling"
   ]
  },
  {
   "cell_type": "code",
   "execution_count": null,
   "metadata": {},
   "outputs": [],
   "source": []
  },
  {
   "cell_type": "markdown",
   "metadata": {},
   "source": [
    "## Data Preprocessing"
   ]
  },
  {
   "cell_type": "code",
   "execution_count": 210,
   "metadata": {},
   "outputs": [
    {
     "name": "stdout",
     "output_type": "stream",
     "text": [
      "      Age  Year_Birth\n",
      "0      54        1970\n",
      "1      63        1961\n",
      "2      66        1958\n",
      "3      57        1967\n",
      "4      35        1989\n",
      "...   ...         ...\n",
      "2235   48        1976\n",
      "2236   47        1977\n",
      "2237   48        1976\n",
      "2238   46        1978\n",
      "2239   55        1969\n",
      "\n",
      "[2240 rows x 2 columns]\n",
      "[ 54  63  66  57  35  70  77  45  65  43  55  47  64  58  48  59  68  49\n",
      "  53  38  52  50  34  37  40  56  69  41  51  46  72  62  60  42  61  67\n",
      "  44  79  75  76  71  78  39  32  80  73  36  74  30  31  33 131  28  29\n",
      " 125  81  83  84 124]\n"
     ]
    }
   ],
   "source": [
    "# Converting year of birth into age\n",
    "current_year = datetime.now().year\n",
    "df['Age'] = current_year - df['Year_Birth']\n",
    "print(df[['Age', 'Year_Birth']])\n",
    "print(df['Age'].unique())"
   ]
  },
  {
   "cell_type": "code",
   "execution_count": 211,
   "metadata": {},
   "outputs": [
    {
     "name": "stdout",
     "output_type": "stream",
     "text": [
      "(2240, 23)\n",
      "(2234, 23)\n",
      "         ID  Year_Birth   Education Marital_Status   Income  Kidhome  \\\n",
      "0      1826        1970  Graduation       Divorced  84835.0        0   \n",
      "1         1        1961  Graduation         Single  57091.0        0   \n",
      "2     10476        1958  Graduation        Married  67267.0        0   \n",
      "3      1386        1967  Graduation       Together  32474.0        1   \n",
      "4      5371        1989  Graduation         Single  21474.0        1   \n",
      "...     ...         ...         ...            ...      ...      ...   \n",
      "2235  10142        1976         PhD       Divorced  66476.0        0   \n",
      "2236   5263        1977    2n Cycle        Married  31056.0        1   \n",
      "2237     22        1976  Graduation       Divorced  46310.0        1   \n",
      "2238    528        1978  Graduation        Married  65819.0        0   \n",
      "2239   4070        1969         PhD        Married  94871.0        0   \n",
      "\n",
      "      Teenhome Dt_Customer  Recency  MntWines  ...  MntSweetProducts  \\\n",
      "0            0  2014-06-16        0       189  ...               189   \n",
      "1            0  2014-06-15        0       464  ...                 0   \n",
      "2            1  2014-05-13        0       134  ...                 2   \n",
      "3            1  2014-11-05        0        10  ...                 0   \n",
      "4            0  2014-08-04        0         6  ...                 0   \n",
      "...        ...         ...      ...       ...  ...               ...   \n",
      "2235         1  2013-07-03       99       372  ...                48   \n",
      "2236         0  2013-01-22       99         5  ...                 8   \n",
      "2237         0  2012-03-12       99       185  ...                 5   \n",
      "2238         0  2012-11-29       99       267  ...               165   \n",
      "2239         2  2012-01-09       99       169  ...                 0   \n",
      "\n",
      "      MntGoldProds  NumDealsPurchases  NumWebPurchases  NumCatalogPurchases  \\\n",
      "0              218                  1                4                    4   \n",
      "1               37                  1                7                    3   \n",
      "2               30                  1                3                    2   \n",
      "3                0                  1                1                    0   \n",
      "4               34                  2                3                    1   \n",
      "...            ...                ...              ...                  ...   \n",
      "2235            78                  2                5                    2   \n",
      "2236            16                  1                1                    0   \n",
      "2237            14                  2                6                    1   \n",
      "2238            63                  1                5                    4   \n",
      "2239           144                  1                8                    5   \n",
      "\n",
      "      NumStorePurchases  NumWebVisitsMonth  Response  Complain  Age  \n",
      "0                     6                  1         1         0   54  \n",
      "1                     7                  5         1         0   63  \n",
      "2                     5                  2         0         0   66  \n",
      "3                     2                  7         0         0   57  \n",
      "4                     2                  7         1         0   35  \n",
      "...                 ...                ...       ...       ...  ...  \n",
      "2235                 11                  4         0         0   48  \n",
      "2236                  3                  8         0         0   47  \n",
      "2237                  5                  8         0         0   48  \n",
      "2238                 10                  3         0         0   46  \n",
      "2239                  4                  7         1         0   55  \n",
      "\n",
      "[2234 rows x 23 columns]\n"
     ]
    }
   ],
   "source": [
    "# Fixing the format for Dt_customer\n",
    "df['Dt_Customer'] = pd.to_datetime(df['Dt_Customer'], format='mixed')\n",
    "print(df.shape)\n",
    "df = df[(df['Dt_Customer'].dt.year - df['Year_Birth']) > 18]\n",
    "print(df.shape)\n",
    "df['Dt_Customer'] = df['Dt_Customer'].astype(str)\n",
    "print(df)"
   ]
  },
  {
   "cell_type": "markdown",
   "metadata": {},
   "source": [
    "## Saving the cleaned data"
   ]
  },
  {
   "cell_type": "code",
   "execution_count": 212,
   "metadata": {},
   "outputs": [],
   "source": [
    "df.to_excel('Cleaned_Date.xlsx')"
   ]
  }
 ],
 "metadata": {
  "kernelspec": {
   "display_name": "Python 3",
   "language": "python",
   "name": "python3"
  },
  "language_info": {
   "codemirror_mode": {
    "name": "ipython",
    "version": 3
   },
   "file_extension": ".py",
   "mimetype": "text/x-python",
   "name": "python",
   "nbconvert_exporter": "python",
   "pygments_lexer": "ipython3",
   "version": "3.12.1"
  }
 },
 "nbformat": 4,
 "nbformat_minor": 2
}
