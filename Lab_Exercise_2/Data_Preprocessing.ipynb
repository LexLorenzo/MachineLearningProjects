{
 "cells": [
  {
   "cell_type": "markdown",
   "metadata": {},
   "source": [
    "# This is the data cleaning Notebok for the project"
   ]
  },
  {
   "cell_type": "code",
   "execution_count": 219,
   "metadata": {},
   "outputs": [],
   "source": [
    "from sklearn.metrics import accuracy_score, precision_score, recall_score, f1_score, confusion_matrix, roc_auc_score\n",
    "from sklearn.model_selection import train_test_split\n",
    "from sklearn.linear_model import LogisticRegression\n",
    "from sklearn.preprocessing import StandardScaler\n",
    "import matplotlib.pyplot as plt\n",
    "import seaborn as sns\n",
    "import pandas as pd\n",
    "import numpy as np\n",
    "from datetime import datetime"
   ]
  },
  {
   "cell_type": "code",
   "execution_count": 220,
   "metadata": {},
   "outputs": [],
   "source": [
    "df = pd.read_excel(\"./marketing_data.xlsx\")"
   ]
  },
  {
   "cell_type": "markdown",
   "metadata": {},
   "source": [
    "## Data Profiling"
   ]
  },
  {
   "cell_type": "code",
   "execution_count": 221,
   "metadata": {},
   "outputs": [
    {
     "data": {
      "text/plain": [
       "ID                       int64\n",
       "Year_Birth               int64\n",
       "Education               object\n",
       "Marital_Status          object\n",
       "Income                 float64\n",
       "Kidhome                  int64\n",
       "Teenhome                 int64\n",
       "Dt_Customer             object\n",
       "Recency                  int64\n",
       "MntWines                 int64\n",
       "MntFruits                int64\n",
       "MntMeatProducts          int64\n",
       "MntFishProducts          int64\n",
       "MntSweetProducts         int64\n",
       "MntGoldProds             int64\n",
       "NumDealsPurchases        int64\n",
       "NumWebPurchases          int64\n",
       "NumCatalogPurchases      int64\n",
       "NumStorePurchases        int64\n",
       "NumWebVisitsMonth        int64\n",
       "Response                 int64\n",
       "Complain                 int64\n",
       "dtype: object"
      ]
     },
     "execution_count": 221,
     "metadata": {},
     "output_type": "execute_result"
    }
   ],
   "source": [
    "df.dtypes"
   ]
  },
  {
   "cell_type": "markdown",
   "metadata": {},
   "source": [
    "## Data Preprocessing"
   ]
  },
  {
   "cell_type": "code",
   "execution_count": 222,
   "metadata": {},
   "outputs": [
    {
     "name": "stdout",
     "output_type": "stream",
     "text": [
      "      Age  Year_Birth\n",
      "0      54        1970\n",
      "1      63        1961\n",
      "2      66        1958\n",
      "3      57        1967\n",
      "4      35        1989\n",
      "...   ...         ...\n",
      "2235   48        1976\n",
      "2236   47        1977\n",
      "2237   48        1976\n",
      "2238   46        1978\n",
      "2239   55        1969\n",
      "\n",
      "[2240 rows x 2 columns]\n",
      "[ 54  63  66  57  35  70  77  45  65  43  55  47  64  58  48  59  68  49\n",
      "  53  38  52  50  34  37  40  56  69  41  51  46  72  62  60  42  61  67\n",
      "  44  79  75  76  71  78  39  32  80  73  36  74  30  31  33 131  28  29\n",
      " 125  81  83  84 124]\n"
     ]
    }
   ],
   "source": [
    "# Converting year of birth into age\n",
    "current_year = datetime.now().year\n",
    "df['Age'] = current_year - df['Year_Birth']\n",
    "print(df[['Age', 'Year_Birth']])\n",
    "print(df['Age'].unique())"
   ]
  },
  {
   "cell_type": "code",
   "execution_count": 223,
   "metadata": {},
   "outputs": [
    {
     "name": "stdout",
     "output_type": "stream",
     "text": [
      "(2240, 23)\n",
      "(2234, 23)\n",
      "         ID  Year_Birth   Education Marital_Status   Income  Kidhome  \\\n",
      "0      1826        1970  Graduation       Divorced  84835.0        0   \n",
      "1         1        1961  Graduation         Single  57091.0        0   \n",
      "2     10476        1958  Graduation        Married  67267.0        0   \n",
      "3      1386        1967  Graduation       Together  32474.0        1   \n",
      "4      5371        1989  Graduation         Single  21474.0        1   \n",
      "...     ...         ...         ...            ...      ...      ...   \n",
      "2235  10142        1976         PhD       Divorced  66476.0        0   \n",
      "2236   5263        1977    2n Cycle        Married  31056.0        1   \n",
      "2237     22        1976  Graduation       Divorced  46310.0        1   \n",
      "2238    528        1978  Graduation        Married  65819.0        0   \n",
      "2239   4070        1969         PhD        Married  94871.0        0   \n",
      "\n",
      "      Teenhome Dt_Customer  Recency  MntWines  ...  MntSweetProducts  \\\n",
      "0            0  2014-06-16        0       189  ...               189   \n",
      "1            0  2014-06-15        0       464  ...                 0   \n",
      "2            1  2014-05-13        0       134  ...                 2   \n",
      "3            1  2014-11-05        0        10  ...                 0   \n",
      "4            0  2014-08-04        0         6  ...                 0   \n",
      "...        ...         ...      ...       ...  ...               ...   \n",
      "2235         1  2013-07-03       99       372  ...                48   \n",
      "2236         0  2013-01-22       99         5  ...                 8   \n",
      "2237         0  2012-03-12       99       185  ...                 5   \n",
      "2238         0  2012-11-29       99       267  ...               165   \n",
      "2239         2  2012-01-09       99       169  ...                 0   \n",
      "\n",
      "      MntGoldProds  NumDealsPurchases  NumWebPurchases  NumCatalogPurchases  \\\n",
      "0              218                  1                4                    4   \n",
      "1               37                  1                7                    3   \n",
      "2               30                  1                3                    2   \n",
      "3                0                  1                1                    0   \n",
      "4               34                  2                3                    1   \n",
      "...            ...                ...              ...                  ...   \n",
      "2235            78                  2                5                    2   \n",
      "2236            16                  1                1                    0   \n",
      "2237            14                  2                6                    1   \n",
      "2238            63                  1                5                    4   \n",
      "2239           144                  1                8                    5   \n",
      "\n",
      "      NumStorePurchases  NumWebVisitsMonth  Response  Complain  Age  \n",
      "0                     6                  1         1         0   54  \n",
      "1                     7                  5         1         0   63  \n",
      "2                     5                  2         0         0   66  \n",
      "3                     2                  7         0         0   57  \n",
      "4                     2                  7         1         0   35  \n",
      "...                 ...                ...       ...       ...  ...  \n",
      "2235                 11                  4         0         0   48  \n",
      "2236                  3                  8         0         0   47  \n",
      "2237                  5                  8         0         0   48  \n",
      "2238                 10                  3         0         0   46  \n",
      "2239                  4                  7         1         0   55  \n",
      "\n",
      "[2234 rows x 23 columns]\n"
     ]
    }
   ],
   "source": [
    "# Fixing the format for Dt_customer\n",
    "df['Dt_Customer'] = pd.to_datetime(df['Dt_Customer'], format='mixed')\n",
    "print(df.shape)\n",
    "df = df[(df['Dt_Customer'].dt.year - df['Year_Birth']) > 18]\n",
    "print(df.shape)\n",
    "df['Dt_Customer'] = df['Dt_Customer'].astype(str)\n",
    "print(df)"
   ]
  },
  {
   "cell_type": "markdown",
   "metadata": {},
   "source": [
    "## Filling all null income values"
   ]
  },
  {
   "cell_type": "code",
   "execution_count": 224,
   "metadata": {},
   "outputs": [
    {
     "data": {
      "text/plain": [
       "0    84835.0\n",
       "1    57091.0\n",
       "2    67267.0\n",
       "3    32474.0\n",
       "4    21474.0\n",
       "Name: Income, dtype: float64"
      ]
     },
     "execution_count": 224,
     "metadata": {},
     "output_type": "execute_result"
    }
   ],
   "source": [
    "df['Income'].head()"
   ]
  },
  {
   "cell_type": "code",
   "execution_count": 225,
   "metadata": {},
   "outputs": [
    {
     "name": "stdout",
     "output_type": "stream",
     "text": [
      "['Graduation' 'PhD' '2n Cycle' 'Master' 'Basic']\n"
     ]
    }
   ],
   "source": [
    "# Graduation = df[df['Education'] == 'Graduation']\n",
    "# Graduation.head(50)\n",
    "\n",
    "unique_values = df['Education'].unique()\n",
    "print(unique_values)"
   ]
  },
  {
   "cell_type": "code",
   "execution_count": 226,
   "metadata": {},
   "outputs": [
    {
     "name": "stdout",
     "output_type": "stream",
     "text": [
      "52656.84290843806\n"
     ]
    }
   ],
   "source": [
    "Graduation_mean = df[df['Education'] == 'Graduation']\n",
    "Graduation_mean = Graduation_mean['Income'].mean()\n",
    "print(Graduation_mean)"
   ]
  },
  {
   "cell_type": "code",
   "execution_count": 227,
   "metadata": {},
   "outputs": [
    {
     "name": "stdout",
     "output_type": "stream",
     "text": [
      "56145.31392931393\n"
     ]
    }
   ],
   "source": [
    "PhD_mean = df[df['Education'] == 'PhD']\n",
    "PhD_mean = PhD_mean['Income'].mean()\n",
    "print(PhD_mean)"
   ]
  },
  {
   "cell_type": "code",
   "execution_count": 228,
   "metadata": {},
   "outputs": [
    {
     "name": "stdout",
     "output_type": "stream",
     "text": [
      "47488.649746192896\n"
     ]
    }
   ],
   "source": [
    "TwoN_Cycle_mean = df[df['Education'] == '2n Cycle']\n",
    "TwoN_Cycle_mean = TwoN_Cycle_mean['Income'].mean()\n",
    "print(TwoN_Cycle_mean)"
   ]
  },
  {
   "cell_type": "code",
   "execution_count": 229,
   "metadata": {},
   "outputs": [
    {
     "name": "stdout",
     "output_type": "stream",
     "text": [
      "52917.53424657534\n"
     ]
    }
   ],
   "source": [
    "Master_mean = df[df['Education'] == 'Master']\n",
    "Master_mean = Master_mean['Income'].mean()\n",
    "print(Master_mean)"
   ]
  },
  {
   "cell_type": "code",
   "execution_count": 230,
   "metadata": {},
   "outputs": [
    {
     "name": "stdout",
     "output_type": "stream",
     "text": [
      "20417.30188679245\n"
     ]
    }
   ],
   "source": [
    "Basic_mean = df[df['Education'] == 'Basic']\n",
    "Basic_mean = Basic_mean['Income'].mean()\n",
    "print(Basic_mean)"
   ]
  },
  {
   "cell_type": "code",
   "execution_count": 231,
   "metadata": {},
   "outputs": [
    {
     "name": "stdout",
     "output_type": "stream",
     "text": [
      "         ID  Year_Birth   Education Marital_Status        Income  Kidhome  \\\n",
      "134    8996        1957         PhD        Married  56145.313929        2   \n",
      "262    1994        1983  Graduation        Married  52656.842908        1   \n",
      "394    3769        1972         PhD       Together  56145.313929        1   \n",
      "449    5255        1986  Graduation         Single  52656.842908        1   \n",
      "525    8268        1961         PhD        Married  56145.313929        0   \n",
      "590   10629        1973    2n Cycle        Married  47488.649746        1   \n",
      "899   10475        1970      Master       Together  52917.534247        0   \n",
      "997    9235        1957  Graduation         Single  52656.842908        1   \n",
      "1096   4345        1964    2n Cycle         Single  47488.649746        1   \n",
      "1185   7187        1969      Master       Together  52917.534247        1   \n",
      "1213   8720        1978    2n Cycle       Together  47488.649746        0   \n",
      "1312   8557        1982  Graduation         Single  52656.842908        1   \n",
      "1515   2863        1970  Graduation         Single  52656.842908        1   \n",
      "1558   2437        1989  Graduation        Married  52656.842908        0   \n",
      "1693   5250        1943      Master          Widow  52917.534247        0   \n",
      "1804   7281        1959         PhD         Single  56145.313929        0   \n",
      "1858   1612        1981         PhD         Single  56145.313929        1   \n",
      "1863   5079        1971  Graduation        Married  52656.842908        1   \n",
      "1880  10339        1954      Master       Together  52917.534247        0   \n",
      "1967   5798        1973      Master       Together  52917.534247        0   \n",
      "1983   2902        1958  Graduation       Together  52656.842908        1   \n",
      "2139   3117        1955  Graduation         Single  52656.842908        0   \n",
      "2165   7244        1951  Graduation         Single  52656.842908        2   \n",
      "2170   1295        1963  Graduation        Married  52656.842908        0   \n",
      "\n",
      "      Teenhome Dt_Customer  Recency  MntWines  ...  MntSweetProducts  \\\n",
      "134          1  2012-11-19        4       230  ...                37   \n",
      "262          0  2013-11-15       11         5  ...                 2   \n",
      "394          0  2014-02-03       17        25  ...                 0   \n",
      "449          0  2013-02-20       19         5  ...               263   \n",
      "525          1  2013-11-07       23       352  ...                 0   \n",
      "590          0  2012-09-14       25        25  ...                 4   \n",
      "899          1  2013-01-04       39       187  ...                20   \n",
      "997          1  2014-05-27       45         7  ...                 0   \n",
      "1096         1  2014-12-01       49         5  ...                 0   \n",
      "1185         1  2013-05-18       52       375  ...                66   \n",
      "1213         0  2012-12-08       53        32  ...                 4   \n",
      "1312         0  2013-06-17       57        11  ...                 2   \n",
      "1515         2  2013-08-23       67       738  ...                50   \n",
      "1558         0  2013-03-06       69       861  ...                30   \n",
      "1693         0  2013-10-30       75       532  ...               126   \n",
      "1804         0  2013-05-11       80        81  ...                 2   \n",
      "1858         0  2013-05-31       82        23  ...                 2   \n",
      "1863         1  2013-03-03       82        71  ...                 0   \n",
      "1880         1  2013-06-23       83       161  ...                 0   \n",
      "1967         0  2013-11-23       87       445  ...                28   \n",
      "1983         1  2012-03-09       87        19  ...                 2   \n",
      "2139         1  2013-10-18       95       264  ...                 6   \n",
      "2165         1  2014-01-01       96        48  ...                10   \n",
      "2170         1  2013-11-08       96       231  ...                71   \n",
      "\n",
      "      MntGoldProds  NumDealsPurchases  NumWebPurchases  NumCatalogPurchases  \\\n",
      "134             53                 12                7                    2   \n",
      "262              1                  1                1                    0   \n",
      "394              3                  1                1                    0   \n",
      "449            362                  0               27                    0   \n",
      "525             15                  3                6                    1   \n",
      "590             17                  3                3                    0   \n",
      "899             14                  2                4                    2   \n",
      "997              1                  1                1                    0   \n",
      "1096             4                  1                1                    0   \n",
      "1185            96                  7                4                   10   \n",
      "1213            22                  0                0                    0   \n",
      "1312             6                  2                2                    0   \n",
      "1515            20                  6                2                    3   \n",
      "1558            61                  1                6                    5   \n",
      "1693           126                  1                5                    5   \n",
      "1804            39                  1                1                    3   \n",
      "1858             7                  2                3                    0   \n",
      "1863             9                  4                2                    1   \n",
      "1880            24                  2                4                    1   \n",
      "1967            18                  1                2                    4   \n",
      "1983             6                  1                1                    0   \n",
      "2139           147                  3                6                    1   \n",
      "2165             7                  3                2                    1   \n",
      "2170           124                  1                6                    5   \n",
      "\n",
      "      NumStorePurchases  NumWebVisitsMonth  Response  Complain  Age  \n",
      "134                   8                  9         0         0   67  \n",
      "262                   2                  7         0         0   41  \n",
      "394                   3                  7         0         0   52  \n",
      "449                   0                  1         0         0   38  \n",
      "525                   7                  6         0         0   63  \n",
      "590                   3                  8         0         0   51  \n",
      "899                   6                  5         0         0   54  \n",
      "997                   2                  7         0         0   67  \n",
      "1096                  2                  7         0         0   60  \n",
      "1185                  4                  3         0         0   55  \n",
      "1213                  1                  0         0         0   46  \n",
      "1312                  3                  6         0         0   42  \n",
      "1515                 10                  7         0         0   54  \n",
      "1558                 12                  3         0         0   35  \n",
      "1693                 11                  1         1         0   81  \n",
      "1804                  4                  2         0         0   65  \n",
      "1858                  3                  6         0         0   43  \n",
      "1863                  3                  8         0         0   53  \n",
      "1880                  4                  6         0         0   70  \n",
      "1967                  8                  1         0         0   51  \n",
      "1983                  3                  5         0         0   66  \n",
      "2139                  5                  7         0         0   69  \n",
      "2165                  4                  6         0         0   73  \n",
      "2170                  7                  4         0         0   61  \n",
      "\n",
      "[24 rows x 23 columns]\n"
     ]
    },
    {
     "name": "stderr",
     "output_type": "stream",
     "text": [
      "/tmp/ipykernel_5425/1739440520.py:3: FutureWarning: ChainedAssignmentError: behaviour will change in pandas 3.0!\n",
      "You are setting values through chained assignment. Currently this works in certain cases, but when using Copy-on-Write (which will become the default behaviour in pandas 3.0) this will never work to update the original DataFrame or Series, because the intermediate object on which we are setting values will behave as a copy.\n",
      "A typical example is when you are setting values in a column of a DataFrame, like:\n",
      "\n",
      "df[\"col\"][row_indexer] = value\n",
      "\n",
      "Use `df.loc[row_indexer, \"col\"] = values` instead, to perform the assignment in a single step and ensure this keeps updating the original `df`.\n",
      "\n",
      "See the caveats in the documentation: https://pandas.pydata.org/pandas-docs/stable/user_guide/indexing.html#returning-a-view-versus-a-copy\n",
      "\n",
      "  null_income['Income'][null_income['Education'] == 'Graduation'] = Graduation_mean\n",
      "/tmp/ipykernel_5425/1739440520.py:3: SettingWithCopyWarning: \n",
      "A value is trying to be set on a copy of a slice from a DataFrame\n",
      "\n",
      "See the caveats in the documentation: https://pandas.pydata.org/pandas-docs/stable/user_guide/indexing.html#returning-a-view-versus-a-copy\n",
      "  null_income['Income'][null_income['Education'] == 'Graduation'] = Graduation_mean\n",
      "/tmp/ipykernel_5425/1739440520.py:3: SettingWithCopyWarning: \n",
      "A value is trying to be set on a copy of a slice from a DataFrame\n",
      "\n",
      "See the caveats in the documentation: https://pandas.pydata.org/pandas-docs/stable/user_guide/indexing.html#returning-a-view-versus-a-copy\n",
      "  null_income['Income'][null_income['Education'] == 'Graduation'] = Graduation_mean\n",
      "/tmp/ipykernel_5425/1739440520.py:4: FutureWarning: ChainedAssignmentError: behaviour will change in pandas 3.0!\n",
      "You are setting values through chained assignment. Currently this works in certain cases, but when using Copy-on-Write (which will become the default behaviour in pandas 3.0) this will never work to update the original DataFrame or Series, because the intermediate object on which we are setting values will behave as a copy.\n",
      "A typical example is when you are setting values in a column of a DataFrame, like:\n",
      "\n",
      "df[\"col\"][row_indexer] = value\n",
      "\n",
      "Use `df.loc[row_indexer, \"col\"] = values` instead, to perform the assignment in a single step and ensure this keeps updating the original `df`.\n",
      "\n",
      "See the caveats in the documentation: https://pandas.pydata.org/pandas-docs/stable/user_guide/indexing.html#returning-a-view-versus-a-copy\n",
      "\n",
      "  null_income['Income'][null_income['Education'] == 'PhD'] = PhD_mean\n",
      "/tmp/ipykernel_5425/1739440520.py:4: SettingWithCopyWarning: \n",
      "A value is trying to be set on a copy of a slice from a DataFrame\n",
      "\n",
      "See the caveats in the documentation: https://pandas.pydata.org/pandas-docs/stable/user_guide/indexing.html#returning-a-view-versus-a-copy\n",
      "  null_income['Income'][null_income['Education'] == 'PhD'] = PhD_mean\n",
      "/tmp/ipykernel_5425/1739440520.py:4: SettingWithCopyWarning: \n",
      "A value is trying to be set on a copy of a slice from a DataFrame\n",
      "\n",
      "See the caveats in the documentation: https://pandas.pydata.org/pandas-docs/stable/user_guide/indexing.html#returning-a-view-versus-a-copy\n",
      "  null_income['Income'][null_income['Education'] == 'PhD'] = PhD_mean\n",
      "/tmp/ipykernel_5425/1739440520.py:5: FutureWarning: ChainedAssignmentError: behaviour will change in pandas 3.0!\n",
      "You are setting values through chained assignment. Currently this works in certain cases, but when using Copy-on-Write (which will become the default behaviour in pandas 3.0) this will never work to update the original DataFrame or Series, because the intermediate object on which we are setting values will behave as a copy.\n",
      "A typical example is when you are setting values in a column of a DataFrame, like:\n",
      "\n",
      "df[\"col\"][row_indexer] = value\n",
      "\n",
      "Use `df.loc[row_indexer, \"col\"] = values` instead, to perform the assignment in a single step and ensure this keeps updating the original `df`.\n",
      "\n",
      "See the caveats in the documentation: https://pandas.pydata.org/pandas-docs/stable/user_guide/indexing.html#returning-a-view-versus-a-copy\n",
      "\n",
      "  null_income['Income'][null_income['Education'] == '2n Cycle'] = TwoN_Cycle_mean\n",
      "/tmp/ipykernel_5425/1739440520.py:5: SettingWithCopyWarning: \n",
      "A value is trying to be set on a copy of a slice from a DataFrame\n",
      "\n",
      "See the caveats in the documentation: https://pandas.pydata.org/pandas-docs/stable/user_guide/indexing.html#returning-a-view-versus-a-copy\n",
      "  null_income['Income'][null_income['Education'] == '2n Cycle'] = TwoN_Cycle_mean\n",
      "/tmp/ipykernel_5425/1739440520.py:5: SettingWithCopyWarning: \n",
      "A value is trying to be set on a copy of a slice from a DataFrame\n",
      "\n",
      "See the caveats in the documentation: https://pandas.pydata.org/pandas-docs/stable/user_guide/indexing.html#returning-a-view-versus-a-copy\n",
      "  null_income['Income'][null_income['Education'] == '2n Cycle'] = TwoN_Cycle_mean\n",
      "/tmp/ipykernel_5425/1739440520.py:6: FutureWarning: ChainedAssignmentError: behaviour will change in pandas 3.0!\n",
      "You are setting values through chained assignment. Currently this works in certain cases, but when using Copy-on-Write (which will become the default behaviour in pandas 3.0) this will never work to update the original DataFrame or Series, because the intermediate object on which we are setting values will behave as a copy.\n",
      "A typical example is when you are setting values in a column of a DataFrame, like:\n",
      "\n",
      "df[\"col\"][row_indexer] = value\n",
      "\n",
      "Use `df.loc[row_indexer, \"col\"] = values` instead, to perform the assignment in a single step and ensure this keeps updating the original `df`.\n",
      "\n",
      "See the caveats in the documentation: https://pandas.pydata.org/pandas-docs/stable/user_guide/indexing.html#returning-a-view-versus-a-copy\n",
      "\n",
      "  null_income['Income'][null_income['Education'] == 'Master'] = Master_mean\n",
      "/tmp/ipykernel_5425/1739440520.py:6: SettingWithCopyWarning: \n",
      "A value is trying to be set on a copy of a slice from a DataFrame\n",
      "\n",
      "See the caveats in the documentation: https://pandas.pydata.org/pandas-docs/stable/user_guide/indexing.html#returning-a-view-versus-a-copy\n",
      "  null_income['Income'][null_income['Education'] == 'Master'] = Master_mean\n",
      "/tmp/ipykernel_5425/1739440520.py:6: SettingWithCopyWarning: \n",
      "A value is trying to be set on a copy of a slice from a DataFrame\n",
      "\n",
      "See the caveats in the documentation: https://pandas.pydata.org/pandas-docs/stable/user_guide/indexing.html#returning-a-view-versus-a-copy\n",
      "  null_income['Income'][null_income['Education'] == 'Master'] = Master_mean\n",
      "/tmp/ipykernel_5425/1739440520.py:7: FutureWarning: ChainedAssignmentError: behaviour will change in pandas 3.0!\n",
      "You are setting values through chained assignment. Currently this works in certain cases, but when using Copy-on-Write (which will become the default behaviour in pandas 3.0) this will never work to update the original DataFrame or Series, because the intermediate object on which we are setting values will behave as a copy.\n",
      "A typical example is when you are setting values in a column of a DataFrame, like:\n",
      "\n",
      "df[\"col\"][row_indexer] = value\n",
      "\n",
      "Use `df.loc[row_indexer, \"col\"] = values` instead, to perform the assignment in a single step and ensure this keeps updating the original `df`.\n",
      "\n",
      "See the caveats in the documentation: https://pandas.pydata.org/pandas-docs/stable/user_guide/indexing.html#returning-a-view-versus-a-copy\n",
      "\n",
      "  null_income['Income'][null_income['Education'] == 'Basic'] = Basic_mean\n",
      "/tmp/ipykernel_5425/1739440520.py:7: SettingWithCopyWarning: \n",
      "A value is trying to be set on a copy of a slice from a DataFrame\n",
      "\n",
      "See the caveats in the documentation: https://pandas.pydata.org/pandas-docs/stable/user_guide/indexing.html#returning-a-view-versus-a-copy\n",
      "  null_income['Income'][null_income['Education'] == 'Basic'] = Basic_mean\n",
      "/tmp/ipykernel_5425/1739440520.py:7: SettingWithCopyWarning: \n",
      "A value is trying to be set on a copy of a slice from a DataFrame\n",
      "\n",
      "See the caveats in the documentation: https://pandas.pydata.org/pandas-docs/stable/user_guide/indexing.html#returning-a-view-versus-a-copy\n",
      "  null_income['Income'][null_income['Education'] == 'Basic'] = Basic_mean\n"
     ]
    }
   ],
   "source": [
    "null_income = df[df['Income'].isnull()]\n",
    "# null_income = null_income.isnull().sum()\n",
    "null_income['Income'][null_income['Education'] == 'Graduation'] = Graduation_mean\n",
    "null_income['Income'][null_income['Education'] == 'PhD'] = PhD_mean\n",
    "null_income['Income'][null_income['Education'] == '2n Cycle'] = TwoN_Cycle_mean\n",
    "null_income['Income'][null_income['Education'] == 'Master'] = Master_mean\n",
    "null_income['Income'][null_income['Education'] == 'Basic'] = Basic_mean\n",
    "print(null_income)"
   ]
  },
  {
   "cell_type": "code",
   "execution_count": 232,
   "metadata": {},
   "outputs": [
    {
     "name": "stderr",
     "output_type": "stream",
     "text": [
      "/tmp/ipykernel_5425/115620912.py:1: FutureWarning: ChainedAssignmentError: behaviour will change in pandas 3.0!\n",
      "You are setting values through chained assignment. Currently this works in certain cases, but when using Copy-on-Write (which will become the default behaviour in pandas 3.0) this will never work to update the original DataFrame or Series, because the intermediate object on which we are setting values will behave as a copy.\n",
      "A typical example is when you are setting values in a column of a DataFrame, like:\n",
      "\n",
      "df[\"col\"][row_indexer] = value\n",
      "\n",
      "Use `df.loc[row_indexer, \"col\"] = values` instead, to perform the assignment in a single step and ensure this keeps updating the original `df`.\n",
      "\n",
      "See the caveats in the documentation: https://pandas.pydata.org/pandas-docs/stable/user_guide/indexing.html#returning-a-view-versus-a-copy\n",
      "\n",
      "  df['Income'][df['Income'].isnull()] = null_income['Income']\n",
      "/tmp/ipykernel_5425/115620912.py:1: SettingWithCopyWarning: \n",
      "A value is trying to be set on a copy of a slice from a DataFrame\n",
      "\n",
      "See the caveats in the documentation: https://pandas.pydata.org/pandas-docs/stable/user_guide/indexing.html#returning-a-view-versus-a-copy\n",
      "  df['Income'][df['Income'].isnull()] = null_income['Income']\n"
     ]
    },
    {
     "data": {
      "text/html": [
       "<div>\n",
       "<style scoped>\n",
       "    .dataframe tbody tr th:only-of-type {\n",
       "        vertical-align: middle;\n",
       "    }\n",
       "\n",
       "    .dataframe tbody tr th {\n",
       "        vertical-align: top;\n",
       "    }\n",
       "\n",
       "    .dataframe thead th {\n",
       "        text-align: right;\n",
       "    }\n",
       "</style>\n",
       "<table border=\"1\" class=\"dataframe\">\n",
       "  <thead>\n",
       "    <tr style=\"text-align: right;\">\n",
       "      <th></th>\n",
       "      <th>ID</th>\n",
       "      <th>Year_Birth</th>\n",
       "      <th>Education</th>\n",
       "      <th>Marital_Status</th>\n",
       "      <th>Income</th>\n",
       "      <th>Kidhome</th>\n",
       "      <th>Teenhome</th>\n",
       "      <th>Dt_Customer</th>\n",
       "      <th>Recency</th>\n",
       "      <th>MntWines</th>\n",
       "      <th>...</th>\n",
       "      <th>MntSweetProducts</th>\n",
       "      <th>MntGoldProds</th>\n",
       "      <th>NumDealsPurchases</th>\n",
       "      <th>NumWebPurchases</th>\n",
       "      <th>NumCatalogPurchases</th>\n",
       "      <th>NumStorePurchases</th>\n",
       "      <th>NumWebVisitsMonth</th>\n",
       "      <th>Response</th>\n",
       "      <th>Complain</th>\n",
       "      <th>Age</th>\n",
       "    </tr>\n",
       "  </thead>\n",
       "  <tbody>\n",
       "    <tr>\n",
       "      <th>0</th>\n",
       "      <td>1826</td>\n",
       "      <td>1970</td>\n",
       "      <td>Graduation</td>\n",
       "      <td>Divorced</td>\n",
       "      <td>84835.0</td>\n",
       "      <td>0</td>\n",
       "      <td>0</td>\n",
       "      <td>2014-06-16</td>\n",
       "      <td>0</td>\n",
       "      <td>189</td>\n",
       "      <td>...</td>\n",
       "      <td>189</td>\n",
       "      <td>218</td>\n",
       "      <td>1</td>\n",
       "      <td>4</td>\n",
       "      <td>4</td>\n",
       "      <td>6</td>\n",
       "      <td>1</td>\n",
       "      <td>1</td>\n",
       "      <td>0</td>\n",
       "      <td>54</td>\n",
       "    </tr>\n",
       "    <tr>\n",
       "      <th>1</th>\n",
       "      <td>1</td>\n",
       "      <td>1961</td>\n",
       "      <td>Graduation</td>\n",
       "      <td>Single</td>\n",
       "      <td>57091.0</td>\n",
       "      <td>0</td>\n",
       "      <td>0</td>\n",
       "      <td>2014-06-15</td>\n",
       "      <td>0</td>\n",
       "      <td>464</td>\n",
       "      <td>...</td>\n",
       "      <td>0</td>\n",
       "      <td>37</td>\n",
       "      <td>1</td>\n",
       "      <td>7</td>\n",
       "      <td>3</td>\n",
       "      <td>7</td>\n",
       "      <td>5</td>\n",
       "      <td>1</td>\n",
       "      <td>0</td>\n",
       "      <td>63</td>\n",
       "    </tr>\n",
       "    <tr>\n",
       "      <th>2</th>\n",
       "      <td>10476</td>\n",
       "      <td>1958</td>\n",
       "      <td>Graduation</td>\n",
       "      <td>Married</td>\n",
       "      <td>67267.0</td>\n",
       "      <td>0</td>\n",
       "      <td>1</td>\n",
       "      <td>2014-05-13</td>\n",
       "      <td>0</td>\n",
       "      <td>134</td>\n",
       "      <td>...</td>\n",
       "      <td>2</td>\n",
       "      <td>30</td>\n",
       "      <td>1</td>\n",
       "      <td>3</td>\n",
       "      <td>2</td>\n",
       "      <td>5</td>\n",
       "      <td>2</td>\n",
       "      <td>0</td>\n",
       "      <td>0</td>\n",
       "      <td>66</td>\n",
       "    </tr>\n",
       "    <tr>\n",
       "      <th>3</th>\n",
       "      <td>1386</td>\n",
       "      <td>1967</td>\n",
       "      <td>Graduation</td>\n",
       "      <td>Together</td>\n",
       "      <td>32474.0</td>\n",
       "      <td>1</td>\n",
       "      <td>1</td>\n",
       "      <td>2014-11-05</td>\n",
       "      <td>0</td>\n",
       "      <td>10</td>\n",
       "      <td>...</td>\n",
       "      <td>0</td>\n",
       "      <td>0</td>\n",
       "      <td>1</td>\n",
       "      <td>1</td>\n",
       "      <td>0</td>\n",
       "      <td>2</td>\n",
       "      <td>7</td>\n",
       "      <td>0</td>\n",
       "      <td>0</td>\n",
       "      <td>57</td>\n",
       "    </tr>\n",
       "    <tr>\n",
       "      <th>4</th>\n",
       "      <td>5371</td>\n",
       "      <td>1989</td>\n",
       "      <td>Graduation</td>\n",
       "      <td>Single</td>\n",
       "      <td>21474.0</td>\n",
       "      <td>1</td>\n",
       "      <td>0</td>\n",
       "      <td>2014-08-04</td>\n",
       "      <td>0</td>\n",
       "      <td>6</td>\n",
       "      <td>...</td>\n",
       "      <td>0</td>\n",
       "      <td>34</td>\n",
       "      <td>2</td>\n",
       "      <td>3</td>\n",
       "      <td>1</td>\n",
       "      <td>2</td>\n",
       "      <td>7</td>\n",
       "      <td>1</td>\n",
       "      <td>0</td>\n",
       "      <td>35</td>\n",
       "    </tr>\n",
       "  </tbody>\n",
       "</table>\n",
       "<p>5 rows × 23 columns</p>\n",
       "</div>"
      ],
      "text/plain": [
       "      ID  Year_Birth   Education Marital_Status   Income  Kidhome  Teenhome  \\\n",
       "0   1826        1970  Graduation       Divorced  84835.0        0         0   \n",
       "1      1        1961  Graduation         Single  57091.0        0         0   \n",
       "2  10476        1958  Graduation        Married  67267.0        0         1   \n",
       "3   1386        1967  Graduation       Together  32474.0        1         1   \n",
       "4   5371        1989  Graduation         Single  21474.0        1         0   \n",
       "\n",
       "  Dt_Customer  Recency  MntWines  ...  MntSweetProducts  MntGoldProds  \\\n",
       "0  2014-06-16        0       189  ...               189           218   \n",
       "1  2014-06-15        0       464  ...                 0            37   \n",
       "2  2014-05-13        0       134  ...                 2            30   \n",
       "3  2014-11-05        0        10  ...                 0             0   \n",
       "4  2014-08-04        0         6  ...                 0            34   \n",
       "\n",
       "   NumDealsPurchases  NumWebPurchases  NumCatalogPurchases  NumStorePurchases  \\\n",
       "0                  1                4                    4                  6   \n",
       "1                  1                7                    3                  7   \n",
       "2                  1                3                    2                  5   \n",
       "3                  1                1                    0                  2   \n",
       "4                  2                3                    1                  2   \n",
       "\n",
       "   NumWebVisitsMonth  Response  Complain  Age  \n",
       "0                  1         1         0   54  \n",
       "1                  5         1         0   63  \n",
       "2                  2         0         0   66  \n",
       "3                  7         0         0   57  \n",
       "4                  7         1         0   35  \n",
       "\n",
       "[5 rows x 23 columns]"
      ]
     },
     "execution_count": 232,
     "metadata": {},
     "output_type": "execute_result"
    }
   ],
   "source": [
    "df['Income'][df['Income'].isnull()] = null_income['Income']\n",
    "df.head(50)"
   ]
  },
  {
   "cell_type": "markdown",
   "metadata": {},
   "source": [
    "## Saving the cleaned data"
   ]
  },
  {
   "cell_type": "code",
   "execution_count": 233,
   "metadata": {},
   "outputs": [],
   "source": [
    "df.to_excel('Cleaned_Date.xlsx')"
   ]
  }
 ],
 "metadata": {
  "kernelspec": {
   "display_name": "Python 3",
   "language": "python",
   "name": "python3"
  },
  "language_info": {
   "codemirror_mode": {
    "name": "ipython",
    "version": 3
   },
   "file_extension": ".py",
   "mimetype": "text/x-python",
   "name": "python",
   "nbconvert_exporter": "python",
   "pygments_lexer": "ipython3",
   "version": "3.10.12"
  }
 },
 "nbformat": 4,
 "nbformat_minor": 2
}
