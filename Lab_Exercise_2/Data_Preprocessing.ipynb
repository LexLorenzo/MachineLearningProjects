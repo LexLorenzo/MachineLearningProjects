{
 "cells": [
  {
   "cell_type": "markdown",
   "metadata": {},
   "source": [
    "# This is the data cleaning Notebok for the project"
   ]
  },
  {
   "cell_type": "code",
   "execution_count": 1,
   "metadata": {},
   "outputs": [],
   "source": [
    "from sklearn.metrics import accuracy_score, precision_score, recall_score, f1_score, confusion_matrix, roc_auc_score\n",
    "from sklearn.model_selection import train_test_split\n",
    "from sklearn.linear_model import LogisticRegression\n",
    "from sklearn.preprocessing import StandardScaler\n",
    "import matplotlib.pyplot as plt\n",
    "import seaborn as sns\n",
    "import pandas as pd\n",
    "import numpy as np\n",
    "from datetime import datetime"
   ]
  },
  {
   "cell_type": "code",
   "execution_count": 2,
   "metadata": {},
   "outputs": [],
   "source": [
    "df = pd.read_excel(\"./marketing_data.xlsx\")"
   ]
  },
  {
   "cell_type": "markdown",
   "metadata": {},
   "source": [
    "## Data Profiling"
   ]
  },
  {
   "cell_type": "code",
   "execution_count": null,
   "metadata": {},
   "outputs": [],
   "source": []
  },
  {
   "cell_type": "markdown",
   "metadata": {},
   "source": [
    "## Data Preprocessing"
   ]
  },
  {
   "cell_type": "code",
   "execution_count": 3,
   "metadata": {},
   "outputs": [
    {
     "name": "stdout",
     "output_type": "stream",
     "text": [
      "      Age  Year_Birth\n",
      "0      54        1970\n",
      "1      63        1961\n",
      "2      66        1958\n",
      "3      57        1967\n",
      "4      35        1989\n",
      "...   ...         ...\n",
      "2235   48        1976\n",
      "2236   47        1977\n",
      "2237   48        1976\n",
      "2238   46        1978\n",
      "2239   55        1969\n",
      "\n",
      "[2240 rows x 2 columns]\n",
      "[ 54  63  66  57  35  70  77  45  65  43  55  47  64  58  48  59  68  49\n",
      "  53  38  52  50  34  37  40  56  69  41  51  46  72  62  60  42  61  67\n",
      "  44  79  75  76  71  78  39  32  80  73  36  74  30  31  33 131  28  29\n",
      " 125  81  83  84 124]\n"
     ]
    }
   ],
   "source": [
    "# Converting year of birth into age\n",
    "current_year = datetime.now().year\n",
    "df['Age'] = current_year - df['Year_Birth']\n",
    "print(df[['Age', 'Year_Birth']])\n",
    "print(df['Age'].unique())"
   ]
  }
 ],
 "metadata": {
  "kernelspec": {
   "display_name": "Python 3",
   "language": "python",
   "name": "python3"
  },
  "language_info": {
   "codemirror_mode": {
    "name": "ipython",
    "version": 3
   },
   "file_extension": ".py",
   "mimetype": "text/x-python",
   "name": "python",
   "nbconvert_exporter": "python",
   "pygments_lexer": "ipython3",
   "version": "3.12.1"
  }
 },
 "nbformat": 4,
 "nbformat_minor": 2
}
