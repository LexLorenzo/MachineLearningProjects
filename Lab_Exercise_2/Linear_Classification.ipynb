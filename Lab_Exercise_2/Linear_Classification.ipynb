{
 "cells": [
  {
   "cell_type": "code",
   "execution_count": 17,
   "metadata": {},
   "outputs": [],
   "source": [
    "from sklearn.metrics import accuracy_score, precision_score, recall_score, f1_score, confusion_matrix, roc_auc_score, ConfusionMatrixDisplay\n",
    "from imblearn.over_sampling import RandomOverSampler\n",
    "from sklearn.model_selection import train_test_split\n",
    "from sklearn.linear_model import SGDClassifier\n",
    "from sklearn.preprocessing import StandardScaler, MinMaxScaler, OneHotEncoder\n",
    "import matplotlib.pyplot as plt\n",
    "import seaborn as sns\n",
    "import pandas as pd\n",
    "import numpy as np\n",
    "from datetime import datetime"
   ]
  },
  {
   "cell_type": "code",
   "execution_count": 18,
   "metadata": {},
   "outputs": [],
   "source": [
    "df = pd.read_excel(\"Threshold_Data.xlsx\")\n",
    "# df = pd.read_excel(\"Cleaned_Data.xlsx\")"
   ]
  },
  {
   "cell_type": "code",
   "execution_count": 19,
   "metadata": {},
   "outputs": [
    {
     "data": {
      "text/plain": [
       "Unnamed: 0              2199\n",
       "ID                      2199\n",
       "Year_Birth              2199\n",
       "Education               2199\n",
       "Marital_Status          2199\n",
       "Income                  2199\n",
       "Kidhome                 2199\n",
       "Teenhome                2199\n",
       "Dt_Customer             2199\n",
       "Recency                 2199\n",
       "MntWines                2199\n",
       "MntFruits               2199\n",
       "MntMeatProducts         2199\n",
       "MntFishProducts         2199\n",
       "MntSweetProducts        2199\n",
       "MntGoldProds            2199\n",
       "NumDealsPurchases       2199\n",
       "NumWebPurchases         2199\n",
       "NumCatalogPurchases     2199\n",
       "NumStorePurchases       2199\n",
       "NumWebVisitsMonth       2199\n",
       "Response                2199\n",
       "Complain                2199\n",
       "Age                     2199\n",
       "Total_Spent             2199\n",
       "BuyingPower             2199\n",
       "HouseHoldMembers        2199\n",
       "Total_Children          2199\n",
       "TotalPurchases          2199\n",
       "Dt_CustomerConverted    2199\n",
       "SinceEnrolled           2199\n",
       "CLV                     2199\n",
       "AOV                     2199\n",
       "dtype: int64"
      ]
     },
     "execution_count": 19,
     "metadata": {},
     "output_type": "execute_result"
    }
   ],
   "source": [
    "df.count()"
   ]
  },
  {
   "cell_type": "code",
   "execution_count": 20,
   "metadata": {},
   "outputs": [],
   "source": [
    "df.dropna(inplace=True)"
   ]
  },
  {
   "cell_type": "code",
   "execution_count": 21,
   "metadata": {},
   "outputs": [],
   "source": [
    "one_hot_encode = OneHotEncoder(sparse_output=False, drop='first').set_output(transform='pandas')"
   ]
  },
  {
   "cell_type": "code",
   "execution_count": 22,
   "metadata": {},
   "outputs": [
    {
     "data": {
      "text/plain": [
       "array(['Single', 'Married', 'Together'], dtype=object)"
      ]
     },
     "execution_count": 22,
     "metadata": {},
     "output_type": "execute_result"
    }
   ],
   "source": [
    "data = df[['Income', 'Total_Children', 'Marital_Status', 'Education', 'Response', 'TotalPurchases','Complain', 'NumWebVisitsMonth','CLV','Age', 'Complain', 'Total_Spent', 'MntWines', 'MntFruits', 'MntMeatProducts', 'MntFishProducts', 'MntSweetProducts', 'MntGoldProds']]\n",
    "\n",
    "# data = df[['Income', 'Kidhome', 'Teenhome', 'Marital_Status', 'Education', 'Response', 'Recency', 'TotalPurchases','Complain', 'NumWebVisitsMonth','BuyingPower','Age']]\n",
    "\n",
    "data['Marital_Status'].unique()"
   ]
  },
  {
   "cell_type": "code",
   "execution_count": 23,
   "metadata": {},
   "outputs": [
    {
     "data": {
      "text/plain": [
       "Income               2199\n",
       "Total_Children       2199\n",
       "Marital_Status       2199\n",
       "Education            2199\n",
       "Response             2199\n",
       "TotalPurchases       2199\n",
       "Complain             2199\n",
       "NumWebVisitsMonth    2199\n",
       "CLV                  2199\n",
       "Age                  2199\n",
       "Complain             2199\n",
       "Total_Spent          2199\n",
       "MntWines             2199\n",
       "MntFruits            2199\n",
       "MntMeatProducts      2199\n",
       "MntFishProducts      2199\n",
       "MntSweetProducts     2199\n",
       "MntGoldProds         2199\n",
       "dtype: int64"
      ]
     },
     "execution_count": 23,
     "metadata": {},
     "output_type": "execute_result"
    }
   ],
   "source": [
    "data.count()"
   ]
  },
  {
   "cell_type": "code",
   "execution_count": 24,
   "metadata": {},
   "outputs": [],
   "source": [
    "ohe_marital = one_hot_encode.fit_transform(data[['Marital_Status']])\n",
    "column_names = [f\"{col}_{val}\" for col, val in zip(['Marital_Status'] * ohe_marital.shape[1], one_hot_encode.get_feature_names_out())]\n",
    "ohe_education = one_hot_encode.fit_transform(data[['Education']])\n",
    "data = data.drop(['Marital_Status', 'Education'], axis=1)\n",
    "data = pd.concat([data, ohe_education], axis=1)\n",
    "data = pd.concat([data, ohe_marital], axis=1)"
   ]
  },
  {
   "cell_type": "markdown",
   "metadata": {},
   "source": [
    "# Baseline Modelling"
   ]
  },
  {
   "cell_type": "code",
   "execution_count": 25,
   "metadata": {},
   "outputs": [],
   "source": [
    "X = data.drop('Response', axis=1).iloc[:,1:]\n"
   ]
  },
  {
   "cell_type": "code",
   "execution_count": 26,
   "metadata": {},
   "outputs": [],
   "source": [
    "y = data['Response']\n",
    "X_train, X_test, y_train, y_test = train_test_split(X, y, test_size=0.3, random_state=42, stratify=y)"
   ]
  },
  {
   "cell_type": "code",
   "execution_count": 27,
   "metadata": {},
   "outputs": [],
   "source": [
    "scaler = StandardScaler()\n",
    "X_train = scaler.fit_transform(X_train)"
   ]
  },
  {
   "cell_type": "code",
   "execution_count": 28,
   "metadata": {},
   "outputs": [],
   "source": [
    "classifier = SGDClassifier()\n",
    "classifier.fit(X_train, y_train)\n",
    "preds = classifier.predict(scaler.transform(X_test))"
   ]
  },
  {
   "cell_type": "code",
   "execution_count": 29,
   "metadata": {},
   "outputs": [],
   "source": [
    "acc = accuracy_score(y_test, preds)\n",
    "prec = precision_score(y_test, preds)\n",
    "rec = recall_score(y_test, preds)\n",
    "f1 = f1_score(y_test, preds)\n",
    "auc = roc_auc_score(y_test, preds)"
   ]
  },
  {
   "cell_type": "code",
   "execution_count": 30,
   "metadata": {},
   "outputs": [
    {
     "name": "stdout",
     "output_type": "stream",
     "text": [
      "Accuracy: 0.8121\n",
      "Precision: 0.3762\n",
      "Recall: 0.3838\n",
      "F1: 0.3800\n",
      "AUC: 0.6358\n"
     ]
    }
   ],
   "source": [
    "print(\"Accuracy: %.4f\" % acc)\n",
    "print(\"Precision: %.4f\" % prec)\n",
    "print(\"Recall: %.4f\" % rec)\n",
    "print(\"F1: %.4f\" % f1)\n",
    "print(\"AUC: %.4f\" % auc)"
   ]
  },
  {
   "cell_type": "code",
   "execution_count": 31,
   "metadata": {},
   "outputs": [
    {
     "name": "stdout",
     "output_type": "stream",
     "text": [
      "660\n"
     ]
    }
   ],
   "source": [
    "print(len(preds))"
   ]
  },
  {
   "cell_type": "markdown",
   "metadata": {},
   "source": [
    "# Figures"
   ]
  },
  {
   "cell_type": "code",
   "execution_count": 32,
   "metadata": {},
   "outputs": [
    {
     "data": {
      "image/png": "[encoded data removed]",
      "text/plain": [
       "<Figure size 640x480 with 2 Axes>"
      ]
     },
     "metadata": {},
     "output_type": "display_data"
    }
   ],
   "source": [
    "actual = y_test\n",
    "predicted = preds\n",
    "\n",
    "\n",
    "confusion_matrix = confusion_matrix(actual, predicted, labels=classifier.classes_)\n",
    "# Normalize the confusion matrix to get probabilities\n",
    "cm_display = ConfusionMatrixDisplay(confusion_matrix = confusion_matrix, display_labels = classifier.classes_)\n",
    "cm_display.plot()\n",
    "plt.show()"
   ]
  }
 ],
 "metadata": {
  "kernelspec": {
   "display_name": "Python 3",
   "language": "python",
   "name": "python3"
  },
  "language_info": {
   "codemirror_mode": {
    "name": "ipython",
    "version": 3
   },
   "file_extension": ".py",
   "mimetype": "text/x-python",
   "name": "python",
   "nbconvert_exporter": "python",
   "pygments_lexer": "ipython3",
   "version": "3.12.1"
  }
 },
 "nbformat": 4,
 "nbformat_minor": 2
}
